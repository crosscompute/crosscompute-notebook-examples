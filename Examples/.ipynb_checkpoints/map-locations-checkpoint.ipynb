{
 "cells": [
  {
   "cell_type": "markdown",
   "metadata": {},
   "source": [
    "# Put landmarks on a map\n",
    "\n",
    "The [geopy](https://github.com/geopy/geopy) package is useful for converting location names into spatial coordinates."
   ]
  },
  {
   "cell_type": "code",
   "execution_count": 1,
   "metadata": {},
   "outputs": [],
   "source": [
    "# Click the Green Paper Plane to transform this Jupyter Notebook into a CrossCompute Tool\n",
    "target_folder = '/tmp/map-locations'\n",
    "location_table_path = 'three-waterfalls.csv'"
   ]
  },
  {
   "cell_type": "code",
   "execution_count": 9,
   "metadata": {},
   "outputs": [
    {
     "data": {
      "text/html": [
       "<div>\n",
       "<table border=\"1\" class=\"dataframe\">\n",
       "  <thead>\n",
       "    <tr style=\"text-align: right;\">\n",
       "      <th></th>\n",
       "      <th>Name</th>\n",
       "      <th>Height in Meters</th>\n",
       "    </tr>\n",
       "  </thead>\n",
       "  <tbody>\n",
       "    <tr>\n",
       "      <th>0</th>\n",
       "      <td>Bridalveil Fall, California</td>\n",
       "      <td>617</td>\n",
       "    </tr>\n",
       "    <tr>\n",
       "      <th>1</th>\n",
       "      <td>Multnomah Falls, Oregon</td>\n",
       "      <td>189</td>\n",
       "    </tr>\n",
       "    <tr>\n",
       "      <th>2</th>\n",
       "      <td>Niagara Falls, New York</td>\n",
       "      <td>51</td>\n",
       "    </tr>\n",
       "  </tbody>\n",
       "</table>\n",
       "</div>"
      ],
      "text/plain": [
       "                          Name  Height in Meters\n",
       "0  Bridalveil Fall, California               617\n",
       "1      Multnomah Falls, Oregon               189\n",
       "2      Niagara Falls, New York                51"
      ]
     },
     "execution_count": 9,
     "metadata": {},
     "output_type": "execute_result"
    }
   ],
   "source": [
    "from os.path import join\n",
    "from pandas import read_csv\n",
    "location_table = read_csv(location_table_path)\n",
    "location_table"
   ]
  },
  {
   "cell_type": "code",
   "execution_count": 10,
   "metadata": {},
   "outputs": [
    {
     "data": {
      "text/plain": [
       "Location(New York, NY, USA, (40.7127837, -74.0059413, 0.0))"
      ]
     },
     "execution_count": 10,
     "metadata": {},
     "output_type": "execute_result"
    }
   ],
   "source": [
    "import geopy\n",
    "geocode = geopy.GoogleV3().geocode\n",
    "geocode('New York, NY')"
   ]
  },
  {
   "cell_type": "code",
   "execution_count": 13,
   "metadata": {},
   "outputs": [
    {
     "name": "stdout",
     "output_type": "stream",
     "text": [
      "Bridalveil Fall, California\n",
      "Multnomah Falls, Oregon\n",
      "Niagara Falls, New York\n"
     ]
    }
   ],
   "source": [
    "latitudes = []\n",
    "longitudes = []\n",
    "for name in location_table['Name']:\n",
    "    location = geocode(name, timeout=5)\n",
    "    latitudes.append(location.latitude)\n",
    "    longitudes.append(location.longitude)\n",
    "    print(name)"
   ]
  },
  {
   "cell_type": "code",
   "execution_count": 14,
   "metadata": {},
   "outputs": [],
   "source": [
    "location_table['Latitude'] = latitudes\n",
    "location_table['Longitude'] = longitudes"
   ]
  },
  {
   "cell_type": "code",
   "execution_count": 15,
   "metadata": {},
   "outputs": [
    {
     "data": {
      "text/html": [
       "<div>\n",
       "<table border=\"1\" class=\"dataframe\">\n",
       "  <thead>\n",
       "    <tr style=\"text-align: right;\">\n",
       "      <th></th>\n",
       "      <th>Name</th>\n",
       "      <th>Height in Meters</th>\n",
       "      <th>Latitude</th>\n",
       "      <th>Longitude</th>\n",
       "    </tr>\n",
       "  </thead>\n",
       "  <tbody>\n",
       "    <tr>\n",
       "      <th>0</th>\n",
       "      <td>Bridalveil Fall, California</td>\n",
       "      <td>617</td>\n",
       "      <td>37.716669</td>\n",
       "      <td>-119.646389</td>\n",
       "    </tr>\n",
       "    <tr>\n",
       "      <th>1</th>\n",
       "      <td>Multnomah Falls, Oregon</td>\n",
       "      <td>189</td>\n",
       "      <td>45.576160</td>\n",
       "      <td>-122.115776</td>\n",
       "    </tr>\n",
       "    <tr>\n",
       "      <th>2</th>\n",
       "      <td>Niagara Falls, New York</td>\n",
       "      <td>51</td>\n",
       "      <td>43.096214</td>\n",
       "      <td>-79.037739</td>\n",
       "    </tr>\n",
       "  </tbody>\n",
       "</table>\n",
       "</div>"
      ],
      "text/plain": [
       "                          Name  Height in Meters   Latitude   Longitude\n",
       "0  Bridalveil Fall, California               617  37.716669 -119.646389\n",
       "1      Multnomah Falls, Oregon               189  45.576160 -122.115776\n",
       "2      Niagara Falls, New York                51  43.096214  -79.037739"
      ]
     },
     "execution_count": 15,
     "metadata": {},
     "output_type": "execute_result"
    }
   ],
   "source": [
    "location_table"
   ]
  },
  {
   "cell_type": "code",
   "execution_count": 16,
   "metadata": {},
   "outputs": [],
   "source": [
    "from invisibleroads_macros.disk import make_folder\n",
    "from os.path import join\n",
    "target_path = join(make_folder(target_folder), 'locations.csv')\n",
    "location_table.to_csv(target_path, index=False)"
   ]
  },
  {
   "cell_type": "code",
   "execution_count": 17,
   "metadata": {},
   "outputs": [
    {
     "name": "stdout",
     "output_type": "stream",
     "text": [
      "location_geotable_path = /tmp/map-locations/locations.csv\n"
     ]
    }
   ],
   "source": [
    "print('location_geotable_path = %s' % target_path)"
   ]
  },
  {
   "cell_type": "markdown",
   "metadata": {},
   "source": [
    "# Landmarks\n",
    "\n",
    "{location_geotable : Landmark Map ? Try clicking a circle on the map}"
   ]
  }
 ],
 "metadata": {
  "kernelspec": {
   "display_name": "Python 3",
   "language": "python",
   "name": "python3"
  },
  "language_info": {
   "codemirror_mode": {
    "name": "ipython",
    "version": 3
   },
   "file_extension": ".py",
   "mimetype": "text/x-python",
   "name": "python",
   "nbconvert_exporter": "python",
   "pygments_lexer": "ipython3",
   "version": "3.5.3"
  }
 },
 "nbformat": 4,
 "nbformat_minor": 1
}
