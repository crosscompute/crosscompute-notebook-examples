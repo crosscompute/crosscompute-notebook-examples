{
 "cells": [
  {
   "cell_type": "markdown",
   "metadata": {},
   "source": [
    "# Make Geotables\n",
    "\n",
    "The geotable data type can take geospatial vectors (such as a shapefile archive) as input and render a map as output.\n",
    "\n",
    "You can use this tool to experiment how changing column names and values will affect the map.\n",
    "\n",
    "[For more information, please see the documentation](https://crosscompute.com/docs/)."
   ]
  },
  {
   "cell_type": "code",
   "execution_count": null,
   "metadata": {
    "collapsed": true
   },
   "outputs": [],
   "source": [
    "# Click the Green Paper Plane to transform this Jupyter Notebook into a CrossCompute Tool\n",
    "source_table_path = 'selected-features.csv'\n",
    "target_folder = '/tmp'"
   ]
  },
  {
   "cell_type": "code",
   "execution_count": null,
   "metadata": {},
   "outputs": [],
   "source": [
    "from os.path import join\n",
    "from shutil import copy\n",
    "target_path = join(target_folder, 'examples.csv')\n",
    "copy(source_table_path, target_path)\n",
    "print('example_satellite_geotable_path = ' + target_path)"
   ]
  },
  {
   "cell_type": "markdown",
   "metadata": {},
   "source": [
    "# Interactive Map\n",
    "\n",
    "Click on a feature to see more information."
   ]
  }
 ],
 "metadata": {
  "kernelspec": {
   "display_name": "Python 3",
   "language": "python",
   "name": "python3"
  },
  "language_info": {
   "codemirror_mode": {
    "name": "ipython",
    "version": 3
   },
   "file_extension": ".py",
   "mimetype": "text/x-python",
   "name": "python",
   "nbconvert_exporter": "python",
   "pygments_lexer": "ipython3",
   "version": "3.6.2"
  }
 },
 "nbformat": 4,
 "nbformat_minor": 2
}
