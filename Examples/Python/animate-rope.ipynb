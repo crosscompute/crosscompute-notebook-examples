{
 "cells": [
  {
   "cell_type": "markdown",
   "metadata": {},
   "source": [
    "# Animate Rope\n",
    "\n",
    "Here we will use `FuncAnimation` to generate a video of the following function from t = 1 to 200:\n",
    "\n",
    "y = a + b x + c sin( (2 pi / d) (x + t / 25) )\n",
    "\n",
    "where\n",
    "\n",
    "*a* is the base intercept\n",
    "\n",
    "*b* is the base slope\n",
    "\n",
    "*c* is the sine amplitude\n",
    "\n",
    "*d* is the sine period"
   ]
  },
  {
   "cell_type": "code",
   "execution_count": null,
   "metadata": {
    "collapsed": true
   },
   "outputs": [],
   "source": [
    "# Click the Green Paper Plane to transform this Jupyter Notebook into a CrossCompute Tool\n",
    "base_intercept = 1\n",
    "base_slope = 0.3\n",
    "sine_amplitude = 0.2\n",
    "sine_period = 3.14\n",
    "target_folder = '/tmp'"
   ]
  },
  {
   "cell_type": "code",
   "execution_count": null,
   "metadata": {
    "collapsed": true
   },
   "outputs": [],
   "source": [
    "import numpy as np\n",
    "\n",
    "x = np.arange(0, 10, 0.01)\n",
    "sine_a = sine_amplitude\n",
    "sine_b = 2 * np.pi / sine_period\n",
    "\n",
    "def f(t):\n",
    "    return sum([\n",
    "        base_slope * x,\n",
    "        sine_a * np.sin(sine_b * (x + t / 25)),\n",
    "        base_intercept,\n",
    "    ])"
   ]
  },
  {
   "cell_type": "code",
   "execution_count": null,
   "metadata": {
    "collapsed": true
   },
   "outputs": [],
   "source": [
    "from matplotlib import pyplot as plt\n",
    "from matplotlib.animation import FuncAnimation\n",
    "\n",
    "figure, axes = plt.subplots()\n",
    "line, = axes.plot(x, f(0))\n",
    "\n",
    "def initialize():\n",
    "    line.set_ydata(np.ma.array(x, mask=True))\n",
    "    return line,\n",
    "\n",
    "def animate(t):\n",
    "    line.set_ydata(f(t))\n",
    "    return line,\n",
    "\n",
    "animation = FuncAnimation(\n",
    "    figure, animate, np.arange(1, 360), init_func=initialize, interval=20, blit=True)"
   ]
  },
  {
   "cell_type": "code",
   "execution_count": null,
   "metadata": {},
   "outputs": [],
   "source": [
    "from os.path import join\n",
    "target_path = join(target_folder, 'animation.mp4')\n",
    "animation.save(target_path)\n",
    "print('animation_video_path = ' + target_path)"
   ]
  },
  {
   "cell_type": "markdown",
   "metadata": {},
   "source": [
    "# Animated Rope"
   ]
  }
 ],
 "metadata": {
  "kernelspec": {
   "display_name": "Python 3",
   "language": "python",
   "name": "python3"
  },
  "language_info": {
   "codemirror_mode": {
    "name": "ipython",
    "version": 3
   },
   "file_extension": ".py",
   "mimetype": "text/x-python",
   "name": "python",
   "nbconvert_exporter": "python",
   "pygments_lexer": "ipython3",
   "version": "3.6.2"
  }
 },
 "nbformat": 4,
 "nbformat_minor": 2
}
