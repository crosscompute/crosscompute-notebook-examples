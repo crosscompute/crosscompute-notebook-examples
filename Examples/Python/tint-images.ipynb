{
 "cells": [
  {
   "cell_type": "markdown",
   "metadata": {},
   "source": [
    "# Tint Images\n",
    "\n",
    "Upload an image and select a color to tint the image.\n",
    "\n",
    "{ source_image : Source Image ? Image to Tint }\n",
    "{ color_select : Target Tint Color ? Color to Use for Tinting }"
   ]
  },
  {
   "cell_type": "code",
   "execution_count": 71,
   "metadata": {
    "collapsed": true
   },
   "outputs": [],
   "source": [
    "# Click the Green Paper Plane to transform this Jupyter Notebook into a CrossCompute Tool\n",
    "source_image_path = 'smiley-20170620-2300.png'\n",
    "color_select = \"\"\"\n",
    "    *yellow*\n",
    "    magenta\n",
    "    cyan\n",
    "    red\n",
    "    green\n",
    "    blue\"\"\"\n",
    "target_folder = '/tmp'"
   ]
  },
  {
   "cell_type": "code",
   "execution_count": 72,
   "metadata": {},
   "outputs": [
    {
     "data": {
      "text/plain": [
       "'yellow'"
      ]
     },
     "execution_count": 72,
     "metadata": {},
     "output_type": "execute_result"
    }
   ],
   "source": [
    "MULTIPLIER_BY_COLOR = {\n",
    "    'yellow': (1, 1, 0),\n",
    "    'magenta': (1, 0, 1),\n",
    "    'cyan': (0, 1, 1),\n",
    "    'red': (1, 0, 0),\n",
    "    'green': (0, 1, 0),\n",
    "    'blue': (0, 0, 1),\n",
    "}\n",
    "color = color_select.strip().splitlines()[0].strip('*')\n",
    "color"
   ]
  },
  {
   "cell_type": "code",
   "execution_count": 69,
   "metadata": {},
   "outputs": [
    {
     "data": {
      "image/png": "[encoded data removed]",
      "text/plain": [
       "<matplotlib.figure.Figure at 0x7fa4e6b8a0f0>"
      ]
     },
     "metadata": {},
     "output_type": "display_data"
    }
   ],
   "source": [
    "%matplotlib inline\n",
    "from matplotlib import pyplot as plt\n",
    "image = plt.imread(source_image_path)\n",
    "plt.imshow(image);"
   ]
  },
  {
   "cell_type": "code",
   "execution_count": 70,
   "metadata": {},
   "outputs": [
    {
     "data": {
      "image/png": "[encoded data removed]",
      "text/plain": [
       "<matplotlib.figure.Figure at 0x7fa4e851f780>"
      ]
     },
     "metadata": {},
     "output_type": "display_data"
    }
   ],
   "source": [
    "tinted_image = MULTIPLIER_BY_COLOR[color] * image[:, :, :3]\n",
    "plt.imshow(tinted_image);"
   ]
  },
  {
   "cell_type": "code",
   "execution_count": 60,
   "metadata": {},
   "outputs": [
    {
     "name": "stdout",
     "output_type": "stream",
     "text": [
      "target_image_path = /tmp/image.png\n"
     ]
    }
   ],
   "source": [
    "from os.path import join\n",
    "target_path = join(target_folder, 'image.png')\n",
    "plt.imsave(target_path, tinted_image)\n",
    "print('target_image_path = ' + target_path)"
   ]
  },
  {
   "cell_type": "markdown",
   "metadata": {},
   "source": [
    "# Tinted Images\n",
    "\n",
    "{ target_image : Tinted Image }"
   ]
  }
 ],
 "metadata": {
  "kernelspec": {
   "display_name": "Python 3",
   "language": "python",
   "name": "python3"
  },
  "language_info": {
   "codemirror_mode": {
    "name": "ipython",
    "version": 3
   },
   "file_extension": ".py",
   "mimetype": "text/x-python",
   "name": "python",
   "nbconvert_exporter": "python",
   "pygments_lexer": "ipython3",
   "version": "3.6.2"
  }
 },
 "nbformat": 4,
 "nbformat_minor": 2
}
