{
 "cells": [
  {
   "cell_type": "markdown",
   "metadata": {},
   "source": [
    "# Make Geotables\n",
    "\n",
    "The geotable data type can take geospatial vectors (such as a shapefile archive) as input and render a map as output.\n",
    "\n",
    "You can use this tool to experiment how changing column names and values will affect the map.\n",
    "\n",
    "[For more information, please see the documentation](https://crosscompute.com/docs/).\n",
    "\n",
    "{ source_table : Your Geotable ? Adjust the Column Names and Values }"
   ]
  },
  {
   "cell_type": "code",
   "execution_count": null,
   "metadata": {
    "collapsed": true
   },
   "outputs": [],
   "source": [
    "# Click the Green Plane to transform this into a CrossCompute tool\n",
    "source_table_path = 'selected-features.csv'\n",
    "target_folder = '/tmp'"
   ]
  },
  {
   "cell_type": "code",
   "execution_count": null,
   "metadata": {
    "collapsed": true
   },
   "outputs": [],
   "source": [
    "from os.path import join\n",
    "from shutil import copy\n",
    "target_path = join(target_folder, 'examples.csv')\n",
    "copy(source_table_path, target_path)\n",
    "print('example_satellite_geotable_path = ' + target_path)"
   ]
  },
  {
   "cell_type": "markdown",
   "metadata": {},
   "source": [
    "# Interactive Map\n",
    "\n",
    "{ example_satellite_geotable : Map Rendered from Your Geotable ? Click on a Feature to See More Information }"
   ]
  }
 ],
 "metadata": {
  "kernelspec": {
   "display_name": "Python 3",
   "language": "python",
   "name": "python3"
  },
  "language_info": {
   "codemirror_mode": {
    "name": "ipython",
    "version": 3
   },
   "file_extension": ".py",
   "mimetype": "text/x-python",
   "name": "python",
   "nbconvert_exporter": "python",
   "pygments_lexer": "ipython3",
   "version": "3.6.2"
  }
 },
 "nbformat": 4,
 "nbformat_minor": 2
}
