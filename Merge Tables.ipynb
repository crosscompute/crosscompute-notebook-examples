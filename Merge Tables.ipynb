{
 "cells": [
  {
   "cell_type": "markdown",
   "metadata": {},
   "source": [
    "# Merge Tables\n",
    "\n",
    "If two tables have the same column, then we can [merge them into a single table by matching rows](https://pandas.pydata.org/pandas-docs/stable/merging.html#brief-primer-on-merge-methods-relational-algebra).\n",
    "\n",
    "Thanks to the [National Centers for Environmental Information](https://www.ncdc.noaa.gov) for collecting temperature and precipitation data by state.\n",
    "\n",
    "{ a_table : Table 1 ? Table to Include in Merge }\n",
    "\n",
    "{ b_table : Table 2 ? Table to Include in Merge }\n",
    "\n",
    "{ key_column_name : Key Column ? Column to Use for Merge }"
   ]
  },
  {
   "cell_type": "code",
   "execution_count": null,
   "metadata": {
    "collapsed": true
   },
   "outputs": [],
   "source": [
    "# CrossCompute\n",
    "a_table_path = 'usa-temperature-by-state.csv'\n",
    "b_table_path = 'usa-precipitation-by-state.csv'\n",
    "key_column_name = 'State'\n",
    "target_folder = '/tmp'"
   ]
  },
  {
   "cell_type": "code",
   "execution_count": null,
   "metadata": {
    "collapsed": true
   },
   "outputs": [],
   "source": [
    "import pandas as pd\n",
    "a_table = pd.read_csv(a_table_path)\n",
    "b_table = pd.read_csv(b_table_path)\n",
    "c_table = pd.merge(a_table, b_table, on=key_column_name)"
   ]
  },
  {
   "cell_type": "code",
   "execution_count": null,
   "metadata": {
    "collapsed": true
   },
   "outputs": [],
   "source": [
    "from os.path import join\n",
    "target_path = join(target_folder, 'table.csv')\n",
    "c_table.to_csv(target_path, index=False)\n",
    "print('c_table_path = ' + target_path)"
   ]
  },
  {
   "cell_type": "markdown",
   "metadata": {},
   "source": [
    "# Merged Tables\n",
    "\n",
    "{ c_table : Merged Table }"
   ]
  }
 ],
 "metadata": {
  "kernelspec": {
   "display_name": "Python 3",
   "language": "python",
   "name": "python3"
  },
  "language_info": {
   "codemirror_mode": {
    "name": "ipython",
    "version": 3
   },
   "file_extension": ".py",
   "mimetype": "text/x-python",
   "name": "python",
   "nbconvert_exporter": "python",
   "pygments_lexer": "ipython3",
   "version": "3.6.4"
  }
 },
 "nbformat": 4,
 "nbformat_minor": 2
}
