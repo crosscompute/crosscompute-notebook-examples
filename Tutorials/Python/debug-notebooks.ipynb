{
 "cells": [
  {
   "cell_type": "markdown",
   "metadata": {},
   "source": [
    "# Debug Notebooks\n",
    "\n",
    "Luckily, you have many options when debugging in Python. Most of these techniques apply to both IPython and Jupyter Notebook. Thanks to the [Jupyter](https://github.com/jupyter) team and other open source contributors for simplifying the debugging process.\n",
    "\n",
    "If after running any of these cells, the notebook appears to be stuck, it may be because you did not exit the debugger, in which case you will need to restart the kernel.\n",
    "\n",
    "- Option 1: Look in the menu above and run Kernel > Restart & Clear Output.\n",
    "- Option 2: Press ESC and 00 (press zero twice)."
   ]
  },
  {
   "cell_type": "markdown",
   "metadata": {},
   "source": [
    "## Debug After an Exception\n",
    "\n",
    "After an exception has just occurred, you can step into the debugger with the [debug command](http://ipython.readthedocs.io/en/stable/interactive/magics.html#magic-debug).\n",
    "\n",
    "If you are working from own machine, make sure to install the `ipdb` package:\n",
    "\n",
    "    pip install ipdb"
   ]
  },
  {
   "cell_type": "code",
   "execution_count": null,
   "metadata": {
    "collapsed": true
   },
   "outputs": [],
   "source": [
    "\"\"\"\n",
    "1. Uncomment the compute statement below and press SHIFT-ENTER.\n",
    "2. Uncomment the debug command in the next cell and press CTRL-ENTER.\n",
    "3. Type adverb and ENTER to examine the value of the adverb variable.\n",
    "4. Type '' + None and ENTER to recreate the exception.\n",
    "5. Type help and ENTER to see available commands.\n",
    "6. Type q and ENTER to exit the debugger.\n",
    "7. Type ESC and 00 if the notebook is stuck because you forgot to exit the debugger.\n",
    "\"\"\"\n",
    "\n",
    "def make_message(verb, adverb=None):\n",
    "    phrase = verb + ' vegetables ' + adverb\n",
    "    return phrase\n",
    "\n",
    "# make_message('eat')"
   ]
  },
  {
   "cell_type": "code",
   "execution_count": null,
   "metadata": {
    "collapsed": true
   },
   "outputs": [],
   "source": [
    "# debug"
   ]
  },
  {
   "cell_type": "markdown",
   "metadata": {},
   "source": [
    "To enter the debugger automatically whenever there is an exception, run the [pdb command](http://ipython.readthedocs.io/en/stable/interactive/magics.html#magic-pdb). Run it again to toggle the setting."
   ]
  },
  {
   "cell_type": "code",
   "execution_count": null,
   "metadata": {
    "collapsed": true
   },
   "outputs": [],
   "source": [
    "# pdb"
   ]
  },
  {
   "cell_type": "markdown",
   "metadata": {},
   "source": [
    "## Debug at a Breakpoint"
   ]
  },
  {
   "cell_type": "markdown",
   "metadata": {
    "collapsed": true
   },
   "source": [
    "To walk through specific code, use `IPython.core.debugger.set_trace`."
   ]
  },
  {
   "cell_type": "code",
   "execution_count": null,
   "metadata": {},
   "outputs": [],
   "source": [
    "\"\"\"\n",
    "1. Uncomment the set_trace statement below and press CTRL-ENTER.\n",
    "2. Type n and ENTER until you reach the join_sorted_words function call.\n",
    "3. Type words and ENTER to examine the value of the words variable.\n",
    "4. Type s and ENTER to step into the join_sorted_words function.\n",
    "5. Type u and ENTER to zoom out.\n",
    "6. Type d and ENTER to zoom in.\n",
    "7. Type q and ENTER to exit the debugger.\n",
    "8. Type ESC and 00 if the notebook is stuck because you forgot to exit the debugger.\n",
    "\"\"\"\n",
    "\n",
    "def decode_message(x):\n",
    "    # from IPython.core.debugger import set_trace; set_trace()\n",
    "    scrambled_phrase = x.strip()\n",
    "    words = scrambled_phrase.split()\n",
    "    decoded_phrase = join_sorted_words(words)\n",
    "    return decoded_phrase.capitalize() + '!'\n",
    "\n",
    "def join_sorted_words(words):\n",
    "    sorted_words = sorted(words)\n",
    "    return ' '.join(sorted_words)\n",
    "\n",
    "decode_message(' do can it anyone ')"
   ]
  },
  {
   "cell_type": "markdown",
   "metadata": {},
   "source": [
    "If you prefer the full set of features available in [IPython](http://ipython.readthedocs.io/en/stable/), use `IPython.embed`."
   ]
  },
  {
   "cell_type": "code",
   "execution_count": null,
   "metadata": {
    "collapsed": true
   },
   "outputs": [],
   "source": [
    "\"\"\"\n",
    "1. Uncomment the embed statement below and press CTRL-ENTER.\n",
    "2. Type whos and ENTER to see the current namespace.\n",
    "3. Type quit and ENTER to exit the interpreter.\n",
    "\"\"\"\n",
    "\n",
    "def make_variables():\n",
    "    x = 1\n",
    "    y = 2\n",
    "    z = 3\n",
    "    # from IPython import embed; embed()\n",
    "    \n",
    "make_variables()"
   ]
  },
  {
   "cell_type": "markdown",
   "metadata": {},
   "source": [
    "## Debug in a Terminal\n",
    "\n",
    "When debugging from the terminal, our favorite debuggers are `ipdb` and `pudb`.\n",
    "\n",
    "    pip install ipdb pudb\n",
    "\n",
    "They share the standard `set_trace` command.\n",
    "\n",
    "    import ipdb; ipdb.set_trace()\n",
    "    import pudb; pudb.set_trace()\n",
    "\n",
    "There is a useful `sticky` command in `ipdb` that displays a large segment of code around the current execution point."
   ]
  },
  {
   "cell_type": "markdown",
   "metadata": {},
   "source": [
    "### Special Case: Tests\n",
    "\n",
    "Both `ipdb` and `pudb` are incompatible with testing frameworks such as [nose](http://nose.readthedocs.io/en/latest/) or [py.test](https://docs.pytest.org/en/latest/). In these cases, we use an enhanced version of `pdb` called [pdbpp](https://pypi.python.org/pypi/pdbpp/).\n",
    "\n",
    "    pip install pdbpp\n",
    "\n",
    "Then you can use the standard `set_trace` command but it will start `pdbpp` instead of `pdb`.\n",
    "\n",
    "    import pdb; pdb.set_trace()"
   ]
  },
  {
   "cell_type": "markdown",
   "metadata": {},
   "source": [
    "### Special Case: Threads\n",
    "\n",
    "Finally, for multithreaded code, we sometimes use [wdb](https://github.com/Kozea/wdb).\n",
    "\n",
    "    pip install wdb.server\n",
    "\n",
    "You will need to start `wdb.server` for the debugger to work properly.\n",
    "\n",
    "    wdb.server.py &\n",
    "\n",
    "It has the standard `set_trace` command.\n",
    "\n",
    "    import wdb; wdb.set_trace()"
   ]
  },
  {
   "cell_type": "markdown",
   "metadata": {},
   "source": [
    "### Special Case: People\n",
    "\n",
    "We often find that people teach each other and learn cool tricks when they work together in the same terminal.\n",
    "\n",
    "- Option 1: [Use tmux](https://github.com/tmux/tmux/wiki).\n",
    "- Option 2: [Share the link to a terminal session on CrossCompute](https://youtu.be/yTYWgIcOEgc)."
   ]
  }
 ],
 "metadata": {
  "kernelspec": {
   "display_name": "Python 3",
   "language": "python",
   "name": "python3"
  },
  "language_info": {
   "codemirror_mode": {
    "name": "ipython",
    "version": 3
   },
   "file_extension": ".py",
   "mimetype": "text/x-python",
   "name": "python",
   "nbconvert_exporter": "python",
   "pygments_lexer": "ipython3",
   "version": "3.6.2"
  }
 },
 "nbformat": 4,
 "nbformat_minor": 2
}
