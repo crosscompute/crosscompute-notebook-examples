{
 "cells": [
  {
   "cell_type": "markdown",
   "metadata": {
    "collapsed": true
   },
   "source": [
    "# Test Notebooks\n",
    "\n",
    "Once you have created a lot of notebooks, you will want to make sure they still work as expected."
   ]
  },
  {
   "cell_type": "markdown",
   "metadata": {},
   "source": [
    "## Test Notebooks by Running Them\n",
    "\n",
    "If you don't want to install additional packages, you can use the `nbconvert` package that is installed by default when you install Jupyter Notebook.\n",
    "\n",
    "The following command will run the notebook `x.ipynb` and save the executed notebook in `/tmp/x.ipynb` as though you had run each cell one by one.\n",
    "\n",
    "    jupyter nbconvert --to notebook --execute \\\n",
    "        --output /tmp/x.ipynb \\\n",
    "        x.ipynb\n",
    "        \n",
    "You can also use this command to convert a notebook into a module. The following command will extract the code from `x.ipynb` and save it in `/tmp/x.py`.\n",
    "\n",
    "    jupyter nbconvert --to python \\\n",
    "        --output /tmp/x.py \\\n",
    "        x.ipynb"
   ]
  },
  {
   "cell_type": "markdown",
   "metadata": {},
   "source": [
    "## Test Notebooks Automatically\n",
    "\n",
    "The `nbval` package is a `py.test` extension that treats each notebook cell as a test. \n",
    "\n",
    "If a cell raises an exception or if its new output does not match its old output, then the cell fails.\n",
    "\n",
    "    pip install nbval\n",
    "    py.test --nbval"
   ]
  },
  {
   "cell_type": "markdown",
   "metadata": {},
   "source": [
    "The `nblint` package checks syntax errors and warnings for each cell of the notebook.\n",
    "\n",
    "    pip install nblint\n",
    "    nblint x.ipynb\n",
    "    nblint --linter pyflakes x.ipynb"
   ]
  },
  {
   "cell_type": "markdown",
   "metadata": {},
   "source": [
    "## Compare Notebooks\n",
    "\n",
    "The `nbdime` package provides scripts for highlighting and merging changes between different versions of the same notebook.\n",
    "\n",
    "    pip install nbdime\n",
    "    nbdiff old.ipynb new.ipynb\n",
    "    nbdiff-web old.ipynb new.ipynb\n",
    "    nbmerge-web older.ipynb old.ipynb new.ipynb"
   ]
  },
  {
   "cell_type": "markdown",
   "metadata": {},
   "source": [
    "Alternatively, you can use the `ipymd` package to create notebooks in markdown format, which is easier to diff.\n",
    "\n",
    "    pip install ipymd\n",
    "    jupyter notebook --generate-config\n",
    "    echo c.NotebookApp.contents_manager_class = \\\n",
    "        'ipymd.IPymdContentsManager' \\\n",
    "        >> ~/.jupyter/jupyter_notebook_config.py\n",
    "        \n",
    "After installing the package, opening a file with the extension `md` will open the notebook editor instead of the text editor. The notebook will save in markdown format instead of the standard JSON.\n",
    "\n",
    "    ```python\n",
    "    >>> x = 1\n",
    "    >>> y = 2\n",
    "    >>> x + y\n",
    "    3\n",
    "    ```"
   ]
  },
  {
   "cell_type": "markdown",
   "metadata": {},
   "source": [
    "## Define Tests Inside Notebooks\n",
    "\n",
    "The `ipython-unittest` package adds magic commands that make it easier to define tests directly inside a notebook using the standard `unittest` framework. You can use this to create exercises where students have to define a function or class that passes certain tests.\n",
    "\n",
    "    pip install ipython-unittest"
   ]
  },
  {
   "cell_type": "code",
   "execution_count": null,
   "metadata": {},
   "outputs": [],
   "source": [
    "%load_ext ipython_unittest"
   ]
  },
  {
   "cell_type": "code",
   "execution_count": null,
   "metadata": {},
   "outputs": [],
   "source": [
    "%%unittest_main\n",
    "\n",
    "class ATest(unittest.TestCase):\n",
    "    \n",
    "    def test_a(self):\n",
    "        self.assertEqual('a' + 'b', 'ab')\n",
    "\n",
    "    def test_b(self):\n",
    "        self.assertEqual(1 + 2, 3)"
   ]
  },
  {
   "cell_type": "markdown",
   "metadata": {},
   "source": [
    "## Define Tests using Notebooks\n",
    "\n",
    "The `pytest-ipynb` package lets you write tests in notebook format. This means that instead of writing `test_module.py`, you can write `test_module.ipynb`. Each cell of the notebook counts as a separate test.\n",
    "\n",
    "    pip install pytest-ipynb\n",
    "    py.test"
   ]
  }
 ],
 "metadata": {
  "kernelspec": {
   "display_name": "Python 3",
   "language": "python",
   "name": "python3"
  },
  "language_info": {
   "codemirror_mode": {
    "name": "ipython",
    "version": 3
   },
   "file_extension": ".py",
   "mimetype": "text/x-python",
   "name": "python",
   "nbconvert_exporter": "python",
   "pygments_lexer": "ipython3",
   "version": "3.6.2"
  }
 },
 "nbformat": 4,
 "nbformat_minor": 2
}
