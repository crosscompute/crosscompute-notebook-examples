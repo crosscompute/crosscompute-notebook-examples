{
 "cells": [
  {
   "cell_type": "markdown",
   "metadata": {},
   "source": [
    "# Vision\n",
    "Promote effective techniques for lifelong learning."
   ]
  },
  {
   "cell_type": "markdown",
   "metadata": {},
   "source": [
    "# Title\n",
    "Pedagogical Techniques for Lifelong Learning Inside and Outside the Classroom"
   ]
  },
  {
   "cell_type": "markdown",
   "metadata": {},
   "source": [
    "# Description\n",
    "\n",
    "Lifelong learning is especially important in rapidly changing fields like computer science. However, when providing technical instruction, showing participants how to teach themselves is a critical skill that is often overlooked.\n",
    "\n",
    "Our goal in this workshop is to practice a structure that instills habits for lifelong learning by writing journals, completing small projects and teaching others.\n",
    "\n",
    "The motivation to learn starts from within, and we believe the best way to personalize that motivation is to have participants keep a journal of their goals and lessons. Next, we will work on designing exercises that build confidence in completing small projects and building useful tools. Finally, we will rehearse techniques for teaching each other."
   ]
  },
  {
   "cell_type": "markdown",
   "metadata": {},
   "source": [
    "# Presenter\n",
    "You"
   ]
  },
  {
   "cell_type": "markdown",
   "metadata": {},
   "source": [
    "# Audience\n",
    "This workshop is intended for computer science instructors teaching in high school, university or continuing education. Exercises will be in Python using Jupyter Notebook with the open source CrossCompute extensions."
   ]
  },
  {
   "cell_type": "markdown",
   "metadata": {},
   "source": [
    "# Outline\n",
    "\n",
    "## Checklist\n",
    "- Show a specific exercise that participants can do while they are waiting for the class to begin: Ask your neighbor to show you something they know about Python.\n",
    "\n",
    "## Objectives (1 minute)\n",
    "1. Practice writing journals.\n",
    "2. Practice finishing projects.\n",
    "3. Practice teaching others.\n",
    "\n",
    "## Relevance (1 minute)\n",
    "The ability to teach oneself is a skill that can be taught but is often overlooked in computer science courses."
   ]
  },
  {
   "cell_type": "markdown",
   "metadata": {},
   "source": [
    "## Direct Instruction: Write Journals (3 minutes)\n",
    "- Keeping a journal involves asking and answering your own questions to get what you want.\n",
    "- We have prepared templates for running experiments, completing missions and teaching lessons.\n",
    "- Open mission to teach your neighbor something they do not know about Python.\n",
    "\n",
    "## Guided Practice: Write Journals (5 minutes)\n",
    "- Write what you would like to have done by the end of this session.\n",
    "- Interview your neighbor to learn what they want to know about Python.\n",
    "- Write your answers."
   ]
  },
  {
   "cell_type": "markdown",
   "metadata": {},
   "source": [
    "## Direct Instruction: Finish Projects (15 minutes)\n",
    "- Finishing a project is an excellent way to practice a skill.\n",
    "- Select a tutorial that is interesting to you.\n",
    "\n",
    "## Guided Practice: Finish Projects (15 minutes)\n",
    "- Work through the tutorial."
   ]
  },
  {
   "cell_type": "markdown",
   "metadata": {},
   "source": [
    "## Direct Instruction: Teach Others (5 minutes)\n",
    "- Teaching helps you consolidate what you already know.\n",
    "- Give three options on what you can teach.\n",
    "- Type on your own machine but do not type on your neighbor's machine.\n",
    "\n",
    "## Guided Practice: Teach Others (15 minutes)\n",
    "- Teach your neighbor something they do not know."
   ]
  },
  {
   "cell_type": "markdown",
   "metadata": {},
   "source": [
    "## Independent Practice\n",
    "- Find more tutorials that others have written.\n",
    "- Write your own tutorial.\n",
    "\n",
    "## Closure (5 minutes)\n",
    "- Discuss how you could have taught the other person more effectively.\n",
    "\n",
    "## Assessment (10 minutes)\n",
    "- What did you teach your neighbor?\n",
    "- How could you have taught your neighbor more effectively?\n",
    "- What did you learn that you did not know before?\n",
    "- How could you have taught yourself more effectively?\n",
    "- What tutorials would you like to see in the future?"
   ]
  },
  {
   "cell_type": "markdown",
   "metadata": {},
   "source": [
    "# Log\n",
    "\n",
    "20170923-2030 - 20170923-2130: 60 minutes\n",
    "\n",
    "    + Add vision\n",
    "    + Add title\n",
    "    + Add description from SIG CSE 2018 proposal\n",
    "    + Add presenter\n",
    "    + Add audience\n",
    "    + Add checklist\n",
    "    + Add objectives\n",
    "    + Add relevance\n",
    "    + Add direct instruction: write journals\n",
    "    + Add guided practice: write journals\n",
    "    \n",
    "20170924-0530 - 20170924-0630: 60 minutes\n",
    "    \n",
    "    + Add direct instruction: finish projects\n",
    "    + Add guided instruction: finish projects\n",
    "    + Add direct instruction: teach others\n",
    "    + Add guided instruction: teach others\n",
    "    + Add independent practice\n",
    "    + Add closure\n",
    "    + Add assessment\n",
    "    \n",
    "20170924-0730 - 20170924-0800: 30 minutes\n",
    "    \n",
    "    + Draft mission to teach your friend something they do not know"
   ]
  }
 ],
 "metadata": {
  "kernelspec": {
   "display_name": "Python 3",
   "language": "python",
   "name": "python3"
  },
  "language_info": {
   "codemirror_mode": {
    "name": "ipython",
    "version": 3
   },
   "file_extension": ".py",
   "mimetype": "text/x-python",
   "name": "python",
   "nbconvert_exporter": "python",
   "pygments_lexer": "ipython3",
   "version": "3.6.2"
  }
 },
 "nbformat": 4,
 "nbformat_minor": 2
}
