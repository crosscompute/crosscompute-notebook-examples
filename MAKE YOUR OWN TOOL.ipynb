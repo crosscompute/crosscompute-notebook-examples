{
 "cells": [
  {
   "cell_type": "markdown",
   "metadata": {},
   "source": [
    "# Type Your Tool Title Here\n",
    "\n",
    "Describe your tool in [Markdown](https://github.com/adam-p/markdown-here/wiki/Markdown-Cheatsheet) syntax. Be sure to give thanks to the people who helped you!\n",
    "\n",
    "- Specifying a tool template is optional.\n",
    "- Specifying input arguments in the tool template is optional.\n",
    "- Omit the path suffix when configuring input arguments.\n",
    "\n",
    "{ a : Variable Named A ? Write tooltips to help your users understand each input argument }\n",
    "\n",
    "{ a_select : Fruit Selection ? Choose your favorite fruits }\n",
    "\n",
    "{ a_text : Some Text }\n",
    "\n",
    "{ a_table ? Thanks! }"
   ]
  },
  {
   "cell_type": "code",
   "execution_count": 17,
   "metadata": {},
   "outputs": [],
   "source": [
    "\"\"\"\n",
    "Specify your input arguments in the first code cell\n",
    "\n",
    "- Add a comment with the word CrossCompute in the first code cell to indicate that your notebook defines a tool\n",
    "- Do not put import statements in the first code cell.\n",
    "- To accept text, use x_text_path\n",
    "- To render a table, use x_table_path\n",
    "- [See other tool notebooks for more data types](https://crosscompute.com/tools)\n",
    "- Be sure that any files you specify are in the same folder as this notebook\n",
    "\"\"\"\n",
    "# CrossCompute\n",
    "a = 1\n",
    "a_select = \"\"\"\n",
    "    Orange\n",
    "    Tomato\n",
    "\n",
    "    Avocado\n",
    "    Banana\n",
    "    Orange\n",
    "    Pear\n",
    "    Tomato\n",
    "\"\"\"\n",
    "a_text_path = 'example.csv'\n",
    "a_table_path = 'example.csv'\n",
    "a_geotable_path = 'example.csv'\n",
    "# Note that target_folder is a special argument and must be spelled exactly\n",
    "target_folder = '/tmp'"
   ]
  },
  {
   "cell_type": "code",
   "execution_count": null,
   "metadata": {},
   "outputs": [],
   "source": [
    "\"\"\"\n",
    "Print output properties in any code cell to render them on the result page\n",
    "\n",
    "- To render a value, use y = 1\n",
    "- To render a text file saved in target_folder, use y_text_path = join(target_folder, 'y.txt')\n",
    "- To render a table file saved in target_folder, use y_table_path = join(target_folder, 'y.csv')\n",
    "- [See other tool notebooks for more data types](https://crosscompute.com/tools)\n",
    "\n",
    "Press the Red Button to deploy your tool on the CrossCompute website\n",
    "\"\"\"\n",
    "print('variable_names_must_not_have_spaces = %s' % (a + 1))\n",
    "print('selected_fruits = %s' % ' '.join(a_select.splitlines()))"
   ]
  },
  {
   "cell_type": "code",
   "execution_count": null,
   "metadata": {},
   "outputs": [],
   "source": [
    "# Type your algorithm code here"
   ]
  },
  {
   "cell_type": "code",
   "execution_count": null,
   "metadata": {},
   "outputs": [],
   "source": [
    "# Press CTRL-ENTER to run a code cell\n",
    "# Press SHIFT-ENTER to run a code cell and move to the next cell\n",
    "# Press ALT-ENTER to run a code cell and insert a new code cell\n",
    "\n",
    "import pandas as pd\n",
    "# Load table\n",
    "a_table = pd.read_csv(a_table_path)\n",
    "a_table[:2]"
   ]
  },
  {
   "cell_type": "code",
   "execution_count": null,
   "metadata": {},
   "outputs": [],
   "source": [
    "# Press CTRL-SHIFT-HYPHEN to split a cell\n",
    "# Press ESC-h to see more keyboard shortcuts\n",
    "\n",
    "from geotable import GeoTable\n",
    "# Load geotable\n",
    "a_geotable = GeoTable.load(a_geotable_path)\n",
    "a_geotable.draw()"
   ]
  },
  {
   "cell_type": "code",
   "execution_count": null,
   "metadata": {},
   "outputs": [],
   "source": [
    "# Save your output files in target_folder\n",
    "%matplotlib inline\n",
    "target_path = target_folder + '/plot.png'\n",
    "ax = a_table.plot(kind='bar')\n",
    "ax.set_xticklabels(a_table['Description'], rotation=45);\n",
    "figure = ax.get_figure()\n",
    "figure.savefig(target_path)\n",
    "\n",
    "# Render the file as an image\n",
    "print('abcdef_image_path = %s' % target_path)"
   ]
  },
  {
   "cell_type": "code",
   "execution_count": null,
   "metadata": {},
   "outputs": [],
   "source": [
    "# Save your output files in target_folder\n",
    "target_path = target_folder + '/map.csv'\n",
    "a_table.to_csv(target_path, index=False)\n",
    "\n",
    "# Render the file as a text\n",
    "print('abcdef_text_path = %s' % target_path)\n",
    "# Render the file as a table\n",
    "print('abcdef_table_path = %s' % target_path)\n",
    "# Render the file as a geotable\n",
    "print('abcdef_geotable_path = %s' % target_path)"
   ]
  },
  {
   "cell_type": "code",
   "execution_count": null,
   "metadata": {},
   "outputs": [],
   "source": [
    "# Specify colors\n",
    "table_with_fill_color = a_table.copy()\n",
    "table_with_fill_color['FillColor'] = [\n",
    "    'r',\n",
    "    'b',\n",
    "    '#ff565f',\n",
    "    'purple',\n",
    "]\n",
    "target_path = target_folder + '/map-with-fill-color.csv'\n",
    "table_with_fill_color.to_csv(target_path, index=False)\n",
    "print('abcdef_geotable_path = %s' % target_path)"
   ]
  },
  {
   "cell_type": "code",
   "execution_count": null,
   "metadata": {},
   "outputs": [],
   "source": [
    "# Assign shades of red based on value\n",
    "table_with_fill_reds = a_table.copy()\n",
    "table_with_fill_reds['FillReds'] = a_table['Level']\n",
    "target_path = target_folder + '/map-with-fill-reds.csv'\n",
    "table_with_fill_reds.to_csv(target_path, index=False)\n",
    "print('abcdef_geotable_path = %s' % target_path)"
   ]
  },
  {
   "cell_type": "code",
   "execution_count": null,
   "metadata": {},
   "outputs": [],
   "source": [
    "print('abcdef_satellite_geotable_path = %s' % target_path)"
   ]
  },
  {
   "cell_type": "markdown",
   "metadata": {},
   "source": [
    "# Type Your Result Title Here\n",
    "\n",
    "You can use this space to specify [links to more information](https://crosscompute.com/create#create-tools).\n",
    "\n",
    "- Specifying a result template is optional.\n",
    "- Specifying output properties in the result template is optional.\n",
    "- Omit the path suffix when configuring output properties.\n",
    "\n",
    "{ variable_names_must_not_have_spaces : X ? Hmm }\n",
    "\n",
    "{ selected_fruits : Selected Fruits }\n",
    "\n",
    "{ abcdef_image : An Image }\n",
    "\n",
    "{ abcdef_text : Some Text }\n",
    "\n",
    "{ abcdef_table : A Table }\n",
    "\n",
    "{ abcdef_geotable : A Map }\n",
    "\n",
    "[Learn how to render different data types](https://crosscompute.com/docs/crosscompute/selected-recipes-in-python.html#specify-data-types-for-result-properties).\n",
    "\n",
    "- [integer](https://pypi.python.org/pypi/crosscompute-integer)\n",
    "- [text](https://pypi.python.org/pypi/crosscompute-text)\n",
    "- [table](https://pypi.python.org/pypi/crosscompute-table)\n",
    "- [select](https://pypi.python.org/pypi/crosscompute-select) (multiple choice)\n",
    "- [image](https://pypi.python.org/pypi/crosscompute-image)\n",
    "- [audio](https://pypi.python.org/pypi/crosscompute-audio)\n",
    "- [video](https://pypi.python.org/pypi/crosscompute-video)\n",
    "- [geotable](https://pypi.python.org/pypi/crosscompute-geotable) (map)\n",
    "\n",
    "[Click here to see a list of supported data types](https://pypi.python.org/pypi/crosscompute-types)."
   ]
  }
 ],
 "metadata": {
  "kernelspec": {
   "display_name": "Python 3",
   "language": "python",
   "name": "python3"
  },
  "language_info": {
   "codemirror_mode": {
    "name": "ipython",
    "version": 3
   },
   "file_extension": ".py",
   "mimetype": "text/x-python",
   "name": "python",
   "nbconvert_exporter": "python",
   "pygments_lexer": "ipython3",
   "version": "3.6.4"
  }
 },
 "nbformat": 4,
 "nbformat_minor": 2
}
