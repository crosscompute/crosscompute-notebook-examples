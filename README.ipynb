{
 "cells": [
  {
   "cell_type": "markdown",
   "metadata": {
    "collapsed": true
   },
   "source": [
    "# Welcome\n",
    "\n",
    "Now that you have started a session, here are some ideas on what you can do with it."
   ]
  },
  {
   "cell_type": "markdown",
   "metadata": {},
   "source": [
    "## Prototype Computational Tools\n",
    "\n",
    "To transform your notebook into a tool, follow these basic steps:\n",
    "\n",
    "1. Define input arguments in the first code cell.\n",
    "2. Print output properties to standard output in subsequent code cells.\n",
    "3. Add a comment containing the word CrossCompute to the first code cell.\n",
    "4. Click the Blue Button to preview your tool.\n",
    "5. Click the Red Button to deploy your tool.\n",
    "\n",
    "For more detail, [please see this template](https://crosscompute.com/n/VUnC87fxksJsuBCksDNl2LHXw7ZMzAB4/-/templates/tool)."
   ]
  },
  {
   "cell_type": "markdown",
   "metadata": {},
   "source": [
    "![Example 0](https://storage.googleapis.com/crosscompute-website-20170828/example0-20171207-0700.jpg)\n",
    "![Example 1](https://storage.googleapis.com/crosscompute-website-20170828/example1-20171207-0700.jpg)\n",
    "![Example 2](https://storage.googleapis.com/crosscompute-website-20170828/example2-20171207-0700.jpg)\n",
    "![Example 3](https://storage.googleapis.com/crosscompute-website-20170828/example3-20171207-0700.jpg)"
   ]
  },
  {
   "cell_type": "code",
   "execution_count": null,
   "metadata": {},
   "outputs": [],
   "source": [
    "from IPython.display import YouTubeVideo\n",
    "YouTubeVideo('M6GPVq3-Beg')"
   ]
  },
  {
   "cell_type": "markdown",
   "metadata": {},
   "source": [
    "## Publish Interactive Blogs\n",
    "\n",
    "When starting your own interactive blog, first decide whether it will be for research or development.\n",
    "\n",
    "[Mission templates](../tree/Templates) are useful for remembering what you are doing and why you are doing it."
   ]
  },
  {
   "cell_type": "markdown",
   "metadata": {},
   "source": [
    "## Prepare Hands-On Workshops\n",
    "\n",
    "We recommend spending 10-15 minutes on discussion and 15-20 minutes on practice.\n",
    "\n",
    "[Use these tutorials](../tree/Tutorials) as a starting point for your own hands-on workshop.\n",
    "\n",
    "[Two people can type in the same terminal from different browsers by sharing the link to a terminal session](https://youtu.be/yTYWgIcOEgc)."
   ]
  },
  {
   "cell_type": "code",
   "execution_count": null,
   "metadata": {},
   "outputs": [],
   "source": [
    "from IPython.display import YouTubeVideo\n",
    "YouTubeVideo('yTYWgIcOEgc')"
   ]
  }
 ],
 "metadata": {
  "kernelspec": {
   "display_name": "Python 3",
   "language": "python",
   "name": "python3"
  },
  "language_info": {
   "codemirror_mode": {
    "name": "ipython",
    "version": 3
   },
   "file_extension": ".py",
   "mimetype": "text/x-python",
   "name": "python",
   "nbconvert_exporter": "python",
   "pygments_lexer": "ipython3",
   "version": "3.6.4"
  }
 },
 "nbformat": 4,
 "nbformat_minor": 2
}
