{
 "cells": [
  {
   "cell_type": "markdown",
   "metadata": {},
   "source": [
    "# Vision\n",
    "Promote effective learning techniques."
   ]
  },
  {
   "cell_type": "markdown",
   "metadata": {},
   "source": [
    "# Mission\n",
    "Teach your friend something they do not know."
   ]
  },
  {
   "cell_type": "markdown",
   "metadata": {},
   "source": [
    "# Owner\n",
    "State your name."
   ]
  },
  {
   "cell_type": "markdown",
   "metadata": {},
   "source": [
    "# Context\n",
    "Learning together is more fun."
   ]
  },
  {
   "cell_type": "markdown",
   "metadata": {},
   "source": [
    "# Timeframe\n",
    "Give dates for when you will start and finish the mission."
   ]
  },
  {
   "cell_type": "markdown",
   "metadata": {},
   "source": [
    "# Objectives\n",
    "\n",
    "    1. Keep a journal on what you have learned.\n",
    "    2. Complete projects to learn more.\n",
    "    3. Teach your friend something they do not know."
   ]
  },
  {
   "cell_type": "markdown",
   "metadata": {},
   "source": [
    "# Log\n",
    "Record progress toward objectives."
   ]
  },
  {
   "cell_type": "markdown",
   "metadata": {},
   "source": [
    "# Tasks\n",
    "\n",
    "## Write Journals\n",
    "\n",
    "    Write what you would like to have done by the end of this session\n",
    "    Interview your friend to learn what they want to know about Python\n",
    "\n",
    "## Finish Projects\n",
    "\n",
    "    Select a tutorial that is interesting to you\n",
    "    Work through the tutorial\n",
    "\n",
    "## Teach Others\n",
    "\n",
    "    Give three options on what you can teach\n",
    "    Type on your own machine but do not type on your friend's machine\n",
    "    Teach your friend something they do not know"
   ]
  }
 ],
 "metadata": {
  "kernelspec": {
   "display_name": "Python 3",
   "language": "python",
   "name": "python3"
  },
  "language_info": {
   "codemirror_mode": {
    "name": "ipython",
    "version": 3
   },
   "file_extension": ".py",
   "mimetype": "text/x-python",
   "name": "python",
   "nbconvert_exporter": "python",
   "pygments_lexer": "ipython3",
   "version": "3.6.3"
  }
 },
 "nbformat": 4,
 "nbformat_minor": 2
}
