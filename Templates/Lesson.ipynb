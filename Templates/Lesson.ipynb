{
 "cells": [
  {
   "cell_type": "markdown",
   "metadata": {},
   "source": [
    "# Vision\n",
    "Describe your long-term goal for the class."
   ]
  },
  {
   "cell_type": "markdown",
   "metadata": {},
   "source": [
    "# Title\n",
    "Identify the topic and scope of the lesson."
   ]
  },
  {
   "cell_type": "markdown",
   "metadata": {},
   "source": [
    "# Description\n",
    "Provide a high-level overview of the lesson."
   ]
  },
  {
   "cell_type": "markdown",
   "metadata": {},
   "source": [
    "# Presenter\n",
    "State your name."
   ]
  },
  {
   "cell_type": "markdown",
   "metadata": {},
   "source": [
    "# Audience\n",
    "Characterize what knowledge or skills your participants should already know in order to get the most out of the lesson."
   ]
  },
  {
   "cell_type": "markdown",
   "metadata": {},
   "source": [
    "# Outline\n",
    "Draft a lesson plan that includes the estimated time in minutes for each section.\n",
    "\n",
    "## Checklist\n",
    "List required materials and include an exercise that participants can do while they are waiting for the lesson to begin.\n",
    "\n",
    "## Objectives\n",
    "Specify at most three goals for the lesson.\n",
    "\n",
    "## Relevance\n",
    "Explain why the goals are important in a way that your audience will understand.\n",
    "\n",
    "## Direct Instruction\n",
    "Walk through the essential concepts.\n",
    "\n",
    "## Guided Practice\n",
    "Have participants work individually or together on exercises that combine writing journals, doing projects and teaching others.\n",
    "\n",
    "## Independent Practice\n",
    "Give participants the opportunity to hone their skills on their own time.\n",
    "\n",
    "## Closure\n",
    "End with a discussion, anecdote or summary that consolidates what was learned.\n",
    "\n",
    "## Assessment\n",
    "Decide how to determine whether a participant achieved the learning goals of the lesson."
   ]
  },
  {
   "cell_type": "markdown",
   "metadata": {},
   "source": [
    "# Log\n",
    "Record experiments and results."
   ]
  },
  {
   "cell_type": "markdown",
   "metadata": {},
   "source": [
    "# Tasks\n",
    "List remaining tasks."
   ]
  }
 ],
 "metadata": {
  "kernelspec": {
   "display_name": "Python 3",
   "language": "python",
   "name": "python3"
  },
  "language_info": {
   "codemirror_mode": {
    "name": "ipython",
    "version": 3
   },
   "file_extension": ".py",
   "mimetype": "text/x-python",
   "name": "python",
   "nbconvert_exporter": "python",
   "pygments_lexer": "ipython3",
   "version": "3.6.2"
  }
 },
 "nbformat": 4,
 "nbformat_minor": 2
}
