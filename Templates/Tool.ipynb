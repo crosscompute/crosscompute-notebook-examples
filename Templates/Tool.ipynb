{
 "cells": [
  {
   "cell_type": "markdown",
   "metadata": {},
   "source": [
    "# Type Your Tool Title Here\n",
    "\n",
    "Describe your tool in [Markdown](https://github.com/adam-p/markdown-here/wiki/Markdown-Cheatsheet) syntax.\n",
    "\n",
    "Be sure to give thanks to the people who helped you!\n",
    "\n",
    "- Specifying a tool template is optional.\n",
    "- Specifying input arguments in the tool template is optional.\n",
    "\n",
    "{ x_table : Table of Yummies ? Write tooltips to help your users understand each input argument }"
   ]
  },
  {
   "cell_type": "code",
   "execution_count": 17,
   "metadata": {},
   "outputs": [],
   "source": [
    "\"\"\"\n",
    "Specify your input arguments in the first code cell\n",
    "\n",
    "- To accept text, use x_text_path\n",
    "- To render a table, use x_table_path\n",
    "- [See other tool notebooks for more data types](https://crosscompute.com/tools)\n",
    "- Be sure that any files you specify are in the same folder as this notebook\n",
    "\n",
    "Click the Blue Button to preview this as a CrossCompute tool\n",
    "\"\"\"\n",
    "a_table_path = 'table.csv'  # Define a table as an input argument\n",
    "target_folder = '/tmp'      # Define target_folder as a special argument"
   ]
  },
  {
   "cell_type": "code",
   "execution_count": null,
   "metadata": {},
   "outputs": [],
   "source": [
    "# Type your algorithm code here\n",
    "# Press CTRL-ENTER to run a code cell\n",
    "\n",
    "import pandas as pd\n",
    "table = pd.read_csv(a_table_path)\n",
    "table.iloc[0]"
   ]
  },
  {
   "cell_type": "code",
   "execution_count": null,
   "metadata": {},
   "outputs": [],
   "source": [
    "# Press SHIFT-ENTER to run a code cell and move to the next cell\n",
    "# Press ALT-ENTER to run a code cell and insert a new code cell\n",
    "\n",
    "row_count = len(table)\n",
    "row_count"
   ]
  },
  {
   "cell_type": "code",
   "execution_count": null,
   "metadata": {},
   "outputs": [],
   "source": [
    "# Press CTRL-SHIFT-HYPHEN to split a cell\n",
    "# Press ESC-h to see more keyboard shortcuts\n",
    "\n",
    "lines = []\n",
    "line_template = '{count} {units} of {description} at ${unit_price:.2f} each'\n",
    "for index, row in table.iterrows():\n",
    "    lines.append(line_template.format(**row))\n",
    "lines"
   ]
  },
  {
   "cell_type": "code",
   "execution_count": null,
   "metadata": {},
   "outputs": [],
   "source": [
    "# Save your output files in target_folder to make them available for download\n",
    "# Note that target_folder is a special argument and must be spelled exactly\n",
    "\n",
    "from os.path import join\n",
    "y_text_path = join(target_folder, 'summary.txt')\n",
    "open(y_text_path, 'wt').write('\\n'.join(lines))\n",
    "y_text_path"
   ]
  },
  {
   "cell_type": "code",
   "execution_count": null,
   "metadata": {},
   "outputs": [],
   "source": [
    "\"\"\"\n",
    "Print output properties in any code cell to render them in the result\n",
    "\n",
    "- To render a value, use y = 1\n",
    "- To render text, use y_text_path = join(target_folder, 'y.txt')\n",
    "- To render a table, use y_table_path = join(target_folder, 'y.csv')\n",
    "- [See other tool notebooks for more data types](https://crosscompute.com/tools)\n",
    "\n",
    "Press the Red Button to deploy your tool on the CrossCompute website\n",
    "\"\"\"\n",
    "print('row_count = %s' % row_count)\n",
    "print('summary_text_path = %s' % y_text_path)"
   ]
  },
  {
   "cell_type": "markdown",
   "metadata": {},
   "source": [
    "# Type Your Result Title Here\n",
    "\n",
    "You can use this space to specify [links to more information](https://crosscompute.com/create#create-tools).\n",
    "\n",
    "- Specifying a result template is optional.\n",
    "- Specifying output properties in the result template is optional.\n",
    "\n",
    "{ row_count : Number of Rows ? Note that you do not need to specify each output property for it to render }\n",
    "\n",
    "{ summary_text : Summary }\n",
    "\n",
    "[Learn how to render different data types](https://crosscompute.com/docs/crosscompute/selected-recipes-in-python.html#specify-data-types-for-result-properties).\n",
    "\n",
    "- [integer](https://pypi.python.org/pypi/crosscompute-integer)\n",
    "- [text](https://pypi.python.org/pypi/crosscompute-text)\n",
    "- [table](https://pypi.python.org/pypi/crosscompute-table)\n",
    "- [select](https://pypi.python.org/pypi/crosscompute-select) (multiple choice)\n",
    "- [image](https://pypi.python.org/pypi/crosscompute-image)\n",
    "- [audio](https://pypi.python.org/pypi/crosscompute-audio)\n",
    "- [video](https://pypi.python.org/pypi/crosscompute-video)\n",
    "- [geotable](https://pypi.python.org/pypi/crosscompute-geotable) (map)\n",
    "\n",
    "[Click here to see a list of supported data types](https://pypi.python.org/pypi/crosscompute-types)."
   ]
  }
 ],
 "metadata": {
  "kernelspec": {
   "display_name": "Python 3",
   "language": "python",
   "name": "python3"
  },
  "language_info": {
   "codemirror_mode": {
    "name": "ipython",
    "version": 3
   },
   "file_extension": ".py",
   "mimetype": "text/x-python",
   "name": "python",
   "nbconvert_exporter": "python",
   "pygments_lexer": "ipython3",
   "version": "3.6.3"
  }
 },
 "nbformat": 4,
 "nbformat_minor": 2
}
